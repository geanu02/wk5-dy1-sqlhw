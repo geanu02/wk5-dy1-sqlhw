{
 "cells": [
  {
   "cell_type": "markdown",
   "id": "22b8568c",
   "metadata": {},
   "source": [
    "# Whiteboard\n",
    "\n",
    "### 1 May 2023"
   ]
  },
  {
   "cell_type": "markdown",
   "id": "14a09707",
   "metadata": {},
   "source": [
    "### Instructions:\n",
    "\n",
    "### Exercise: Sorted inventory management\n",
    "### Imagine you run a small grocery store and you have a dictionary that stores the inventory of your store. Each key represents the name of a product and the corresponding value represents the quantity of that product in stock.\n",
    "### Write a Python function that takes the inventory dictionary as input. Your task is to loop through the dictionary, sort the key-value pairs by the name of the product in ascending order, and print out each key-value pair in the following format: \"We have <value> <key> in stock.\"\n",
    "### For example, consider the following inventory dictionary:\n",
    "### inventory = {'oranges': 3, 'apples': 10, 'bananas': 5}\n",
    "### Your function should sort the dictionary by the name of the product in ascending order, then loop through the sorted dictionary and print out the following output:\n",
    "### We have 10 apples in stock.\n",
    "### We have 5 bananas in stock.\n",
    "### We have 3 oranges in stock."
   ]
  },
  {
   "cell_type": "code",
   "execution_count": 3,
   "id": "2cb8b912",
   "metadata": {},
   "outputs": [
    {
     "name": "stdout",
     "output_type": "stream",
     "text": [
      "We have 10 apples in stock.\n",
      "\n",
      "We have 5 bananas in stock.\n",
      "\n",
      "We have 3 oranges in stock.\n",
      "\n"
     ]
    }
   ],
   "source": [
    "inventory = {'oranges': 3, 'apples': 10, 'bananas': 5}\n",
    "\n",
    "def sort_inventory(_inventory):\n",
    "    _keys = list(_inventory.keys())\n",
    "    _keys.sort()\n",
    "    sorted_dict = {i: _inventory[i] for i in _keys}\n",
    "    for k, v in sorted_dict.items():\n",
    "        print(f\"We have {v} {k} in stock.\\n\")\n",
    "    \n",
    "sort_inventory(inventory)"
   ]
  },
  {
   "cell_type": "code",
   "execution_count": null,
   "id": "a1a22dae",
   "metadata": {},
   "outputs": [],
   "source": []
  }
 ],
 "metadata": {
  "kernelspec": {
   "display_name": "Python 3 (ipykernel)",
   "language": "python",
   "name": "python3"
  },
  "language_info": {
   "codemirror_mode": {
    "name": "ipython",
    "version": 3
   },
   "file_extension": ".py",
   "mimetype": "text/x-python",
   "name": "python",
   "nbconvert_exporter": "python",
   "pygments_lexer": "ipython3",
   "version": "3.9.13"
  }
 },
 "nbformat": 4,
 "nbformat_minor": 5
}
